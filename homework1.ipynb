{
 "cells": [
  {
   "cell_type": "code",
   "execution_count": 1,
   "id": "aad651ff-e7ee-4f98-9857-958d77408fe9",
   "metadata": {},
   "outputs": [
    {
     "name": "stdin",
     "output_type": "stream",
     "text": [
      " 10\n"
     ]
    },
    {
     "name": "stdout",
     "output_type": "stream",
     "text": [
      "20\n"
     ]
    }
   ],
   "source": [
    "n = int(input())\n",
    "print(n * 2)"
   ]
  },
  {
   "cell_type": "code",
   "execution_count": 4,
   "id": "3ae065dc-b1a5-43f7-9bf5-720c26dbc99e",
   "metadata": {},
   "outputs": [
    {
     "name": "stdin",
     "output_type": "stream",
     "text": [
      " 10 15\n"
     ]
    },
    {
     "name": "stdout",
     "output_type": "stream",
     "text": [
      "71.50\n"
     ]
    }
   ],
   "source": [
    "a, b = map(int, input().split())\n",
    "print(f'{a * b - (a / 2) * (a / 2) * 3.14:.2f}')"
   ]
  },
  {
   "cell_type": "code",
   "execution_count": 7,
   "id": "c91ee05f-8d42-4ffd-9d4f-6832077df5bd",
   "metadata": {},
   "outputs": [
    {
     "name": "stdin",
     "output_type": "stream",
     "text": [
      " Y\n"
     ]
    },
    {
     "name": "stdout",
     "output_type": "stream",
     "text": [
      "y\n"
     ]
    }
   ],
   "source": [
    "c = input()\n",
    "if ord(c) >= ord('a') and ord(c) <= ord('z'):\n",
    "    print(chr(ord(c) - ord('a') + ord('A')))\n",
    "else:\n",
    "    print(chr(ord(c) - ord('A') + ord('a')))\n",
    "    "
   ]
  },
  {
   "cell_type": "code",
   "execution_count": 8,
   "id": "7340d220-095b-4d9e-a3f0-5e9644995178",
   "metadata": {},
   "outputs": [
    {
     "name": "stdin",
     "output_type": "stream",
     "text": [
      " 5\n"
     ]
    },
    {
     "name": "stdout",
     "output_type": "stream",
     "text": [
      "5 không phải là kí tự alphabet\n"
     ]
    }
   ],
   "source": [
    "c = input()\n",
    "if (ord(c) >= ord('a') and ord(c) <= ord('z')) or (ord(c) >= ord('A') and ord(c) <= ord('Z')):\n",
    "    print(f'{c} là kí tự alphabet')\n",
    "else:\n",
    "    print(f'{c} không phải là kí tự alphabet')\n"
   ]
  },
  {
   "cell_type": "code",
   "execution_count": 2,
   "id": "83ce4d4e-ff7d-406e-a501-d8c1943af234",
   "metadata": {},
   "outputs": [
    {
     "name": "stdin",
     "output_type": "stream",
     "text": [
      " G\n"
     ]
    },
    {
     "name": "stdout",
     "output_type": "stream",
     "text": [
      "F\n"
     ]
    }
   ],
   "source": [
    "c = input()\n",
    "if (c == 'A'):\n",
    "    print(c)\n",
    "else:\n",
    "    print(chr(ord(c) - 1))"
   ]
  },
  {
   "cell_type": "code",
   "execution_count": null,
   "id": "1c961ed9-8174-47b6-9eae-73706fdcd35c",
   "metadata": {},
   "outputs": [],
   "source": [
    "a, b, c = map(float, input().split())\n",
    "if (a + b > c) and (a + c > b) and (b + c > a):\n",
    "    p = (a + b + c) / 2\n",
    "    s = (p * (p - a) * (p - b) * (p - c)) ** 0.5\n",
    "    print(f'{s:.1f}')\n",
    "else:\n",
    "    print(\"Khong phai 3 canh cua tam giac\")"
   ]
  },
  {
   "cell_type": "code",
   "execution_count": 11,
   "id": "02753b2a-7257-47a4-962b-cc8022286d01",
   "metadata": {},
   "outputs": [
    {
     "name": "stdin",
     "output_type": "stream",
     "text": [
      "Ten chu ho:  Nguyen Xuan Long\n",
      "Chi so thang truoc:  2097\n",
      "Chi so thang nay:  2278\n"
     ]
    },
    {
     "name": "stdout",
     "output_type": "stream",
     "text": [
      "Ho va ten: Nguyen Xuan Long\n",
      "Tien phai tra: 426038\n"
     ]
    }
   ],
   "source": [
    "ten = input(\"Ten chu ho: \")\n",
    "truoc = int(input(\"Chi so thang truoc: \"))\n",
    "sau = int(input(\"Chi so thang nay: \"))\n",
    "x = sau - truoc\n",
    "tien = 0\n",
    "if (x <= 50):\n",
    "    tien = x * 1984\n",
    "elif x > 50 and x <= 100:\n",
    "    tien = 50 * 1984 + (x - 50) * 2050\n",
    "elif x > 100 and x <= 200:\n",
    "    tien = 50 * 1984 + 50 * 2050 + (x - 100) * 2380\n",
    "elif x > 200 and x <= 300:\n",
    "    tien = 50 * 1984 + 50 * 2050 + 100 * 2380 + (x - 200) * 2998\n",
    "elif x > 300 and x <= 400:\n",
    "    tien = 50 * 1984 + 50 * 2050 + 100 * 2380 + 100 * 2998 + (x - 300) * 3350\n",
    "else:\n",
    "    tien = 50 * 1984 + 50 * 2050 + 100 * 2380 + 100 * 2998 + 100 * 3350 + (x - 400) * 3460\n",
    "print(f\"Ho va ten: {ten}\")\n",
    "print(f\"Tien phai tra: {int(tien * 1.08)}\")"
   ]
  },
  {
   "cell_type": "code",
   "execution_count": 9,
   "id": "37edf08a-6138-43ea-a693-91eb765cc103",
   "metadata": {},
   "outputs": [
    {
     "name": "stdin",
     "output_type": "stream",
     "text": [
      " 01/04/2007\n"
     ]
    },
    {
     "name": "stdout",
     "output_type": "stream",
     "text": [
      "valid\n"
     ]
    }
   ],
   "source": [
    "#kiem tra ngay thang nam hop le\n",
    "d, m, y = map(int, input().split('/'))\n",
    "if y < 1900 or y > 2100:\n",
    "    print('invalid')\n",
    "elif m > 12 or m < 1:\n",
    "    print('invalid')\n",
    "else:\n",
    "    if m == 2:\n",
    "        if d > 29:\n",
    "            print('invalid')\n",
    "        elif d == 29:   \n",
    "            if (y % 4 == 0 and y % 100 != 0) or y % 400 == 0:\n",
    "                print('valid')\n",
    "            else:\n",
    "                print('invalid')\n",
    "        elif d > 0:\n",
    "            print('valid')\n",
    "        else:\n",
    "            print('invalid')\n",
    "    elif m == 1 or m == 3 or m == 5 or m == 7 or m == 8 or m == 10 or m == 12:\n",
    "        if d <= 31 and d > 0:\n",
    "            print('valid')\n",
    "        else:\n",
    "            print('invalid')\n",
    "    else:\n",
    "        if d <= 30 and d > 0:\n",
    "            print('valid')\n",
    "        else:\n",
    "            print('invalid')"
   ]
  },
  {
   "cell_type": "code",
   "execution_count": 12,
   "id": "ae6e3513-8348-47c2-98c9-7a7e54164265",
   "metadata": {},
   "outputs": [],
   "source": [
    "#Bai Tap Khac"
   ]
  },
  {
   "cell_type": "code",
   "execution_count": 13,
   "id": "08c2c239-979d-4350-a5e3-b4e55cddf31c",
   "metadata": {},
   "outputs": [
    {
     "name": "stdin",
     "output_type": "stream",
     "text": [
      " 10\n"
     ]
    },
    {
     "name": "stdout",
     "output_type": "stream",
     "text": [
      "chan\n"
     ]
    }
   ],
   "source": [
    "n = int(input())\n",
    "if (n % 2 == 0):\n",
    "    print(\"chan\")\n",
    "else:\n",
    "    print(\"le\")"
   ]
  },
  {
   "cell_type": "code",
   "execution_count": 15,
   "id": "adc4e205-8524-4c4a-98c0-e99184048231",
   "metadata": {},
   "outputs": [
    {
     "name": "stdin",
     "output_type": "stream",
     "text": [
      " 18\n"
     ]
    },
    {
     "name": "stdout",
     "output_type": "stream",
     "text": [
      "False\n"
     ]
    }
   ],
   "source": [
    "n = int(input())\n",
    "if (n % 10 == 5):\n",
    "    print(\"True\")\n",
    "else:\n",
    "    print(\"False\")\n"
   ]
  },
  {
   "cell_type": "code",
   "execution_count": 17,
   "id": "34d874cb-0765-46eb-acc7-a6881459ddaf",
   "metadata": {},
   "outputs": [
    {
     "name": "stdin",
     "output_type": "stream",
     "text": [
      " 100\n"
     ]
    },
    {
     "name": "stdout",
     "output_type": "stream",
     "text": [
      "False\n"
     ]
    }
   ],
   "source": [
    "n = int(input())\n",
    "if (n % 3 == 0) and (n % 5 == 0):\n",
    "    print(\"True\")\n",
    "else:\n",
    "    print(\"False\")"
   ]
  },
  {
   "cell_type": "code",
   "execution_count": 19,
   "id": "48081544-f935-4a79-9eeb-6de50b8770b5",
   "metadata": {},
   "outputs": [
    {
     "name": "stdin",
     "output_type": "stream",
     "text": [
      " 2007\n"
     ]
    },
    {
     "name": "stdout",
     "output_type": "stream",
     "text": [
      "Du kieu kien\n"
     ]
    }
   ],
   "source": [
    "n = int(input())\n",
    "if (2025 - n >= 18):\n",
    "    print(\"Du kieu kien\")\n",
    "else:\n",
    "    print(\"Khong du dieu kien\")"
   ]
  },
  {
   "cell_type": "code",
   "execution_count": 20,
   "id": "f5b96f95-9b0b-439c-9375-712bb542d46d",
   "metadata": {},
   "outputs": [
    {
     "name": "stdin",
     "output_type": "stream",
     "text": [
      " 10 11\n"
     ]
    },
    {
     "name": "stdout",
     "output_type": "stream",
     "text": [
      "11\n"
     ]
    }
   ],
   "source": [
    "a, b = map(int, input().split())\n",
    "if (a == b):\n",
    "    print(\"hai so bang nhau\")\n",
    "elif a > b:\n",
    "    print(a)\n",
    "else:\n",
    "    print(b)"
   ]
  },
  {
   "cell_type": "code",
   "execution_count": 22,
   "id": "05796437-0f29-4d19-8a2e-dd8f6d892f3b",
   "metadata": {},
   "outputs": [
    {
     "name": "stdin",
     "output_type": "stream",
     "text": [
      " g\n"
     ]
    },
    {
     "name": "stdout",
     "output_type": "stream",
     "text": [
      "chu cai\n"
     ]
    }
   ],
   "source": [
    "c = input()\n",
    "if (ord(c) >= ord('0') and ord(c) <= ord('9')):\n",
    "    print(\"so\")\n",
    "elif (ord(c) >= ord('a') and ord(c) <= ord('z')) or (ord(c) >= ord('A') and ord(c) <= ord('Z')):\n",
    "    print(\"chu cai\")\n",
    "else:\n",
    "    print(\"khong la so hoac chu cai\")"
   ]
  },
  {
   "cell_type": "code",
   "execution_count": 23,
   "id": "729122c0-6c79-410e-9d1e-7fbbef217d22",
   "metadata": {},
   "outputs": [
    {
     "name": "stdin",
     "output_type": "stream",
     "text": [
      " 10\n"
     ]
    },
    {
     "name": "stdout",
     "output_type": "stream",
     "text": [
      "gioi\n"
     ]
    }
   ],
   "source": [
    "d = float(input())\n",
    "if (d >= 8):\n",
    "    print(\"gioi\")\n",
    "elif d >= 6.5:\n",
    "    print(\"kha\")\n",
    "elif d >= 5:\n",
    "    print(\"trung binh\")\n",
    "else:\n",
    "    print(\"yeu\")"
   ]
  },
  {
   "cell_type": "code",
   "execution_count": 25,
   "id": "cff94fe9-6c7f-49b9-b6a6-06bb87c29586",
   "metadata": {},
   "outputs": [
    {
     "name": "stdin",
     "output_type": "stream",
     "text": [
      " 2020\n"
     ]
    },
    {
     "name": "stdout",
     "output_type": "stream",
     "text": [
      "nam nhuan\n"
     ]
    }
   ],
   "source": [
    "y = int(input())\n",
    "if (y % 400 == 0) or (y % 4 == 0 and y % 100 != 0):\n",
    "    print(\"nam nhuan\")\n",
    "else:\n",
    "    print(\"khong nhuan\")"
   ]
  },
  {
   "cell_type": "code",
   "execution_count": 26,
   "id": "c67a2d51-2447-4339-b796-7ed7c0bc195b",
   "metadata": {},
   "outputs": [
    {
     "name": "stdin",
     "output_type": "stream",
     "text": [
      " 7\n"
     ]
    },
    {
     "name": "stdout",
     "output_type": "stream",
     "text": [
      "Bảy\n"
     ]
    }
   ],
   "source": [
    "d = int(input())\n",
    "dd = \"\"\n",
    "match d:\n",
    "    case 0: dd = \"Khong\"\n",
    "    case 1: dd = \"Một\"\n",
    "    case 2: dd = \"Hai\"\n",
    "    case 3: dd = \"Ba\"\n",
    "    case 4: dd = \"Bốn\"\n",
    "    case 5: dd = \"Năm\"\n",
    "    case 6: dd = \"Sáu\"\n",
    "    case 7: dd = \"Bảy\"\n",
    "    case 8: dd = \"Tám\"\n",
    "    case 9: dd = \"Chín\"\n",
    "print(dd)"
   ]
  },
  {
   "cell_type": "code",
   "execution_count": 27,
   "id": "1a2b7df1-4cd5-4b4e-a59c-a99b357f5695",
   "metadata": {},
   "outputs": [
    {
     "name": "stdin",
     "output_type": "stream",
     "text": [
      " 5\n"
     ]
    },
    {
     "name": "stdout",
     "output_type": "stream",
     "text": [
      "Qua môn\n"
     ]
    }
   ],
   "source": [
    "p = int(input())\n",
    "if (p >= 4):\n",
    "    print(\"Qua môn\")\n",
    "else:\n",
    "    print(\"Học lại\")\n",
    "    "
   ]
  },
  {
   "cell_type": "code",
   "execution_count": 28,
   "id": "9de57cda-3acb-44bc-92d0-5f2cb2c9a6be",
   "metadata": {},
   "outputs": [
    {
     "name": "stdin",
     "output_type": "stream",
     "text": [
      " 2000\n"
     ]
    },
    {
     "name": "stdout",
     "output_type": "stream",
     "text": [
      "25\n"
     ]
    }
   ],
   "source": [
    "n = int(input())\n",
    "tuoi = 2025 - n\n",
    "print(tuoi)"
   ]
  },
  {
   "cell_type": "code",
   "execution_count": null,
   "id": "e600bfd2-0a46-454d-bdb3-627ad1c40fef",
   "metadata": {},
   "outputs": [],
   "source": []
  }
 ],
 "metadata": {
  "kernelspec": {
   "display_name": "Python 3 (ipykernel)",
   "language": "python",
   "name": "python3"
  },
  "language_info": {
   "codemirror_mode": {
    "name": "ipython",
    "version": 3
   },
   "file_extension": ".py",
   "mimetype": "text/x-python",
   "name": "python",
   "nbconvert_exporter": "python",
   "pygments_lexer": "ipython3",
   "version": "3.12.2"
  }
 },
 "nbformat": 4,
 "nbformat_minor": 5
}
