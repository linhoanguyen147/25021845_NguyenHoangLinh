{
 "cells": [
  {
   "cell_type": "code",
   "execution_count": 1,
   "id": "aad651ff-e7ee-4f98-9857-958d77408fe9",
   "metadata": {},
   "outputs": [
    {
     "name": "stdin",
     "output_type": "stream",
     "text": [
      " 10\n"
     ]
    },
    {
     "name": "stdout",
     "output_type": "stream",
     "text": [
      "20\n"
     ]
    }
   ],
   "source": [
    "n = int(input())\n",
    "print(n * 2)"
   ]
  },
  {
   "cell_type": "code",
   "execution_count": 4,
   "id": "3ae065dc-b1a5-43f7-9bf5-720c26dbc99e",
   "metadata": {},
   "outputs": [
    {
     "name": "stdin",
     "output_type": "stream",
     "text": [
      " 10 15\n"
     ]
    },
    {
     "name": "stdout",
     "output_type": "stream",
     "text": [
      "71.50\n"
     ]
    }
   ],
   "source": [
    "a, b = map(int, input().split())\n",
    "print(f'{a * b - (a / 2) * (a / 2) * 3.14:.2f}')"
   ]
  },
  {
   "cell_type": "code",
   "execution_count": 7,
   "id": "c91ee05f-8d42-4ffd-9d4f-6832077df5bd",
   "metadata": {},
   "outputs": [
    {
     "name": "stdin",
     "output_type": "stream",
     "text": [
      " Y\n"
     ]
    },
    {
     "name": "stdout",
     "output_type": "stream",
     "text": [
      "y\n"
     ]
    }
   ],
   "source": [
    "c = input()\n",
    "if ord(c) >= ord('a') and ord(c) <= ord('z'):\n",
    "    print(chr(ord(c) - ord('a') + ord('A')))\n",
    "else:\n",
    "    print(chr(ord(c) - ord('A') + ord('a')))\n",
    "    "
   ]
  },
  {
   "cell_type": "code",
   "execution_count": 8,
   "id": "7340d220-095b-4d9e-a3f0-5e9644995178",
   "metadata": {},
   "outputs": [
    {
     "name": "stdin",
     "output_type": "stream",
     "text": [
      " 5\n"
     ]
    },
    {
     "name": "stdout",
     "output_type": "stream",
     "text": [
      "5 không phải là kí tự alphabet\n"
     ]
    }
   ],
   "source": [
    "c = input()\n",
    "if (ord(c) >= ord('a') and ord(c) <= ord('z')) or (ord(c) >= ord('A') and ord(c) <= ord('Z')):\n",
    "    print(f'{c} là kí tự alphabet')\n",
    "else:\n",
    "    print(f'{c} không phải là kí tự alphabet')\n"
   ]
  },
  {
   "cell_type": "code",
   "execution_count": 9,
   "id": "37edf08a-6138-43ea-a693-91eb765cc103",
   "metadata": {},
   "outputs": [
    {
     "name": "stdin",
     "output_type": "stream",
     "text": [
      " 01/04/2007\n"
     ]
    },
    {
     "name": "stdout",
     "output_type": "stream",
     "text": [
      "valid\n"
     ]
    }
   ],
   "source": [
    "#kiem tra ngay thang nam hop le\n",
    "d, m, y = map(int, input().split('/'))\n",
    "if y < 1900 or y > 2100:\n",
    "    print('invalid')\n",
    "elif m > 12 or m < 1:\n",
    "    print('invalid')\n",
    "else:\n",
    "    if m == 2:\n",
    "        if d > 29:\n",
    "            print('invalid')\n",
    "        elif d == 29:   \n",
    "            if (y % 4 == 0 and y % 100 != 0) or y % 400 == 0:\n",
    "                print('valid')\n",
    "            else:\n",
    "                print('invalid')\n",
    "        elif d > 0:\n",
    "            print('valid')\n",
    "        else:\n",
    "            print('invalid')\n",
    "    elif m in [1, 3, 5, 7, 8, 10, 12]:\n",
    "        if d <= 31 and d > 0:\n",
    "            print('valid')\n",
    "        else:\n",
    "            print('invalid')\n",
    "    else:\n",
    "        if d <= 30 and d > 0:\n",
    "            print('valid')\n",
    "        else:\n",
    "            print('invalid')"
   ]
  },
  {
   "cell_type": "code",
   "execution_count": null,
   "id": "ae6e3513-8348-47c2-98c9-7a7e54164265",
   "metadata": {},
   "outputs": [],
   "source": []
  }
 ],
 "metadata": {
  "kernelspec": {
   "display_name": "Python 3 (ipykernel)",
   "language": "python",
   "name": "python3"
  },
  "language_info": {
   "codemirror_mode": {
    "name": "ipython",
    "version": 3
   },
   "file_extension": ".py",
   "mimetype": "text/x-python",
   "name": "python",
   "nbconvert_exporter": "python",
   "pygments_lexer": "ipython3",
   "version": "3.13.7"
  }
 },
 "nbformat": 4,
 "nbformat_minor": 5
}
