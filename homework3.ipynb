{
 "cells": [
  {
   "cell_type": "code",
   "execution_count": 1,
   "id": "20ef71ce-2d67-4f95-9288-96a7cadc94a8",
   "metadata": {},
   "outputs": [
    {
     "name": "stdin",
     "output_type": "stream",
     "text": [
      " 4 5\n"
     ]
    },
    {
     "name": "stdout",
     "output_type": "stream",
     "text": [
      "5 4\n"
     ]
    }
   ],
   "source": [
    "a, b = map(int, input().split())\n",
    "a ^= b\n",
    "b = a ^ b\n",
    "a ^= b\n",
    "print(a, b)"
   ]
  },
  {
   "cell_type": "code",
   "execution_count": 3,
   "id": "168d27c1-4081-487f-a46a-065db6098b59",
   "metadata": {},
   "outputs": [
    {
     "name": "stdin",
     "output_type": "stream",
     "text": [
      " 8\n"
     ]
    },
    {
     "name": "stdout",
     "output_type": "stream",
     "text": [
      "n la luy thua cua 2\n"
     ]
    }
   ],
   "source": [
    "n = int(input())\n",
    "if not ((n & (n-1)==0)):\n",
    "    print(\"n la luy thua cua 2\")\n",
    "else:\n",
    "    print(\"n la luy thua cua 2\")\n"
   ]
  },
  {
   "cell_type": "code",
   "execution_count": 6,
   "id": "e9fab70c-8d66-4a54-9ab8-67a4789f49a4",
   "metadata": {},
   "outputs": [
    {
     "name": "stdin",
     "output_type": "stream",
     "text": [
      " 10 3\n"
     ]
    },
    {
     "name": "stdout",
     "output_type": "stream",
     "text": [
      "3.00\n"
     ]
    }
   ],
   "source": [
    "import math\n",
    "m, n = map(float, input().split())\n",
    "print({math.floor(m / n)})"
   ]
  },
  {
   "cell_type": "code",
   "execution_count": 8,
   "id": "d8bd591e-cc40-4187-b36b-254978541159",
   "metadata": {},
   "outputs": [
    {
     "name": "stdin",
     "output_type": "stream",
     "text": [
      " 10 3\n"
     ]
    },
    {
     "name": "stdout",
     "output_type": "stream",
     "text": [
      "4\n"
     ]
    }
   ],
   "source": [
    "import math\n",
    "m, n = map(float, input().split())\n",
    "print(math.ceil(m / n))"
   ]
  },
  {
   "cell_type": "code",
   "execution_count": 9,
   "id": "3a70a123-7f85-4c65-83f3-a6d9874416ed",
   "metadata": {},
   "outputs": [
    {
     "name": "stdin",
     "output_type": "stream",
     "text": [
      " 1\n"
     ]
    },
    {
     "name": "stdout",
     "output_type": "stream",
     "text": [
      "Odd\n"
     ]
    }
   ],
   "source": [
    "x = int(input())\n",
    "if x & 1:\n",
    "    print(\"Odd\")\n",
    "else:\n",
    "    print(\"Even\")"
   ]
  },
  {
   "cell_type": "code",
   "execution_count": 10,
   "id": "4cf5b558-f804-428f-a7f3-d38ef19e4cb0",
   "metadata": {},
   "outputs": [
    {
     "name": "stdin",
     "output_type": "stream",
     "text": [
      " -2 -3\n"
     ]
    },
    {
     "name": "stdout",
     "output_type": "stream",
     "text": [
      "Yes\n"
     ]
    }
   ],
   "source": [
    "a, b= map(int,input().split())\n",
    "if a < 0 and b < 0:\n",
    "    print(\"Yes\")\n",
    "else:\n",
    "    print(\"No\")\n"
   ]
  },
  {
   "cell_type": "code",
   "execution_count": 11,
   "id": "8b2568ad-68bd-4b42-b810-74bcf955f80b",
   "metadata": {},
   "outputs": [
    {
     "name": "stdin",
     "output_type": "stream",
     "text": [
      " afhsdg\n",
      " dhf\n"
     ]
    },
    {
     "name": "stdout",
     "output_type": "stream",
     "text": [
      "Yes\n"
     ]
    }
   ],
   "source": [
    "a = input()\n",
    "b = input()\n",
    "if (len(a) > len(b)):\n",
    "    print(\"Yes\")\n",
    "else:\n",
    "    print(\"No\")"
   ]
  },
  {
   "cell_type": "code",
   "execution_count": 12,
   "id": "b21776fd-9983-4d8a-9448-ed7e07215dcd",
   "metadata": {},
   "outputs": [
    {
     "name": "stdin",
     "output_type": "stream",
     "text": [
      " 1 2 3\n"
     ]
    },
    {
     "name": "stdout",
     "output_type": "stream",
     "text": [
      "Yes\n"
     ]
    }
   ],
   "source": [
    "a, b, c = map(float, input().split())\n",
    "if not (a + b > c and b + c > a and a + c > b):\n",
    "    print(\"Yes\")\n",
    "else:\n",
    "    print(\"No\")"
   ]
  },
  {
   "cell_type": "code",
   "execution_count": 13,
   "id": "0c3fd6ed-be9c-4d8b-ab92-b8a06f5e50b5",
   "metadata": {},
   "outputs": [
    {
     "name": "stdin",
     "output_type": "stream",
     "text": [
      " 1 2 3 4\n"
     ]
    },
    {
     "name": "stdout",
     "output_type": "stream",
     "text": [
      "4\n"
     ]
    }
   ],
   "source": [
    "a, b, c, d = map(int, input().split())\n",
    "if (a >= b and a >= c and a >= d):\n",
    "    print(a)\n",
    "elif (b >= c and b >= a and b >= d):\n",
    "    print(b)\n",
    "elif (c >= d and c >= a and c >= b):\n",
    "    print(c)\n",
    "else:\n",
    "    print(d)"
   ]
  },
  {
   "cell_type": "code",
   "execution_count": 14,
   "id": "c9972856-453e-4ff4-87e3-6a4be63d6f13",
   "metadata": {},
   "outputs": [
    {
     "name": "stdin",
     "output_type": "stream",
     "text": [
      " 3 4 5\n"
     ]
    },
    {
     "name": "stdout",
     "output_type": "stream",
     "text": [
      "tam giac vuong\n"
     ]
    }
   ],
   "source": [
    "a, b, c = map(float, input().split())\n",
    "if not (a + b > c and b + c > a and a + c > b):\n",
    "    print(\"khong la ba canh cua mot tam giac\")\n",
    "else:\n",
    "    if (a == b and b == c):\n",
    "        print(\"tam giac deu\")\n",
    "    else:\n",
    "        if (a * a + b * b == c * c or a * a + c * c == b * b or b * b + c * c == a * a) and (a == b or b == c or a == c):\n",
    "            print(\"tam giac vuong can\")\n",
    "        elif (a * a + b * b == c * c or a * a + c * c == b * b or b * b + c * c == a * a):\n",
    "            print(\"tam giac vuong\")\n",
    "        elif (a == b or b == c or a == c):\n",
    "            print('tam giac can')\n",
    "        else:\n",
    "            print('tam giac thuong')"
   ]
  },
  {
   "cell_type": "code",
   "execution_count": 15,
   "id": "71775e36-c7d4-41ad-9ec3-5ab85faa391c",
   "metadata": {},
   "outputs": [
    {
     "name": "stdin",
     "output_type": "stream",
     "text": [
      " 2000\n"
     ]
    },
    {
     "name": "stdout",
     "output_type": "stream",
     "text": [
      "nam nhuan\n"
     ]
    }
   ],
   "source": [
    "y = int(input())\n",
    "if (y % 400 == 0) or (y % 4 == 0 and y % 100 != 0):\n",
    "    print(\"nam nhuan\")\n",
    "else:\n",
    "    print(\"khong nhuan\")"
   ]
  },
  {
   "cell_type": "code",
   "execution_count": 16,
   "id": "baf53568-072a-4dac-afa9-1fe298e9aec0",
   "metadata": {},
   "outputs": [
    {
     "name": "stdin",
     "output_type": "stream",
     "text": [
      " 1 2 \n"
     ]
    },
    {
     "name": "stdout",
     "output_type": "stream",
     "text": [
      "co nghiem duy nhat la x = -2.0\n"
     ]
    }
   ],
   "source": [
    "a, b = map(float, input().split())\n",
    "if a == 0:\n",
    "    if b == 0:\n",
    "        print(\"vo so nghiem\")\n",
    "    else:\n",
    "        print(\"vo nghiem\")\n",
    "else:\n",
    "    print(\"co nghiem duy nhat la x =\", -b/a)"
   ]
  },
  {
   "cell_type": "code",
   "execution_count": 17,
   "id": "29a34f85-e111-4c74-a65c-5abc58ba9355",
   "metadata": {},
   "outputs": [
    {
     "name": "stdin",
     "output_type": "stream",
     "text": [
      " 5\n"
     ]
    },
    {
     "name": "stdout",
     "output_type": "stream",
     "text": [
      "trung binh\n"
     ]
    }
   ],
   "source": [
    "d = float(input())\n",
    "if (d >= 8):\n",
    "    print(\"gioi\")\n",
    "elif d >= 6.5:\n",
    "    print(\"kha\")\n",
    "elif d >= 5:\n",
    "    print(\"trung binh\")\n",
    "else:\n",
    "    print(\"yeu\")"
   ]
  },
  {
   "cell_type": "code",
   "execution_count": 18,
   "id": "dc45254d-e4eb-4c70-9d57-defead47425e",
   "metadata": {},
   "outputs": [
    {
     "name": "stdin",
     "output_type": "stream",
     "text": [
      " 5.7\n"
     ]
    },
    {
     "name": "stdout",
     "output_type": "stream",
     "text": [
      "5 6 6\n"
     ]
    }
   ],
   "source": [
    "import math\n",
    "x = float(input())\n",
    "if (x - int(x) < 0.5):\n",
    "    print(math.floor(x), math.ceil(x), int(x))\n",
    "else:\n",
    "    print(math.floor(x), math.ceil(x), int(x) + 1)"
   ]
  },
  {
   "cell_type": "code",
   "execution_count": 22,
   "id": "52fbc8ec-9e38-4e53-9b01-2199a385e587",
   "metadata": {},
   "outputs": [
    {
     "name": "stdin",
     "output_type": "stream",
     "text": [
      " 2 4 8 16\n"
     ]
    },
    {
     "name": "stdout",
     "output_type": "stream",
     "text": [
      "YES\n"
     ]
    }
   ],
   "source": [
    "a, b, c, d = map(int, input().split())\n",
    "if a == 0 or b == 0 or c == 0 or d == 0:\n",
    "    print(\"NO\")\n",
    "else:\n",
    "    if b % a == 0:\n",
    "        dd = b/a\n",
    "        if (c == b * dd and d == c * dd):\n",
    "            print(\"YES\")\n",
    "        else:\n",
    "            print(\"NO\")\n",
    "    else:\n",
    "        print(\"NO\")"
   ]
  },
  {
   "cell_type": "code",
   "execution_count": null,
   "id": "2d3aae45-e99a-49a3-bde0-21f9aca9abf8",
   "metadata": {},
   "outputs": [],
   "source": []
  }
 ],
 "metadata": {
  "kernelspec": {
   "display_name": "Python 3 (ipykernel)",
   "language": "python",
   "name": "python3"
  },
  "language_info": {
   "codemirror_mode": {
    "name": "ipython",
    "version": 3
   },
   "file_extension": ".py",
   "mimetype": "text/x-python",
   "name": "python",
   "nbconvert_exporter": "python",
   "pygments_lexer": "ipython3",
   "version": "3.13.7"
  }
 },
 "nbformat": 4,
 "nbformat_minor": 5
}
