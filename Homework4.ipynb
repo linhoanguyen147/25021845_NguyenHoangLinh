{
 "cells": [
  {
   "cell_type": "code",
   "execution_count": 2,
   "id": "c3766a11-9dd9-4363-a56b-fe1085785e39",
   "metadata": {},
   "outputs": [
    {
     "name": "stdout",
     "output_type": "stream",
     "text": [
      "1 3 5 7 9 11 13 15 17 19 21 23 25 27 29 31 33 35 37 39 41 43 45 47 49 51 53 55 57 59 61 63 65 67 69 71 73 75 77 79 81 83 85 87 89 91 93 95 97 99 "
     ]
    }
   ],
   "source": [
    "for i in range(1, 100, 2):\n",
    "    print(i, end = ' ')"
   ]
  },
  {
   "cell_type": "code",
   "execution_count": 3,
   "id": "f37e8f24-2457-4903-8aee-633e49bdabf9",
   "metadata": {},
   "outputs": [
    {
     "name": "stdout",
     "output_type": "stream",
     "text": [
      "6 12 18 24 30 36 42 48 54 60 66 72 78 84 90 96 "
     ]
    }
   ],
   "source": [
    "for i in range(6, 100, 6):\n",
    "    print(i, end = ' ')"
   ]
  },
  {
   "cell_type": "code",
   "execution_count": 4,
   "id": "7b5e77f0-f327-4f18-843d-8bfa7718c642",
   "metadata": {},
   "outputs": [
    {
     "name": "stdin",
     "output_type": "stream",
     "text": [
      " 8\n"
     ]
    },
    {
     "name": "stdout",
     "output_type": "stream",
     "text": [
      "8 x 1 = 8\n",
      "8 x 2 = 16\n",
      "8 x 3 = 24\n",
      "8 x 4 = 32\n",
      "8 x 5 = 40\n",
      "8 x 6 = 48\n",
      "8 x 7 = 56\n",
      "8 x 8 = 64\n",
      "8 x 9 = 72\n"
     ]
    }
   ],
   "source": [
    "a = int(input())\n",
    "for i in range(1, 10):\n",
    "    print(f'{a} x {i} = {a * i}')"
   ]
  },
  {
   "cell_type": "code",
   "execution_count": 8,
   "id": "ad67720f-ea88-4484-9202-cfe656286eec",
   "metadata": {},
   "outputs": [
    {
     "name": "stdin",
     "output_type": "stream",
     "text": [
      " 4\n"
     ]
    },
    {
     "name": "stdout",
     "output_type": "stream",
     "text": [
      "   *\n",
      "  * *\n",
      " *   *\n",
      "*******\n"
     ]
    }
   ],
   "source": [
    "h = int(input())\n",
    "for i in range(1, h + 1):\n",
    "    print(\" \" * (h - i), end=\"\")\n",
    "    if i == 1:\n",
    "        print(\"*\")\n",
    "    elif i == h:\n",
    "        print(\"*\" * (2 * h - 1))\n",
    "    else:\n",
    "        print(\"*\" + \" \" * (2 * i - 3) + \"*\")"
   ]
  },
  {
   "cell_type": "code",
   "execution_count": 9,
   "id": "ca74e91a-877c-4e15-9702-f3b74f45e868",
   "metadata": {},
   "outputs": [
    {
     "name": "stdin",
     "output_type": "stream",
     "text": [
      " 10\n"
     ]
    },
    {
     "name": "stdout",
     "output_type": "stream",
     "text": [
      "55\n"
     ]
    }
   ],
   "source": [
    "n = int(input())\n",
    "s = 0\n",
    "for i in range(1, n + 1):\n",
    "    s += i\n",
    "print(s)"
   ]
  },
  {
   "cell_type": "code",
   "execution_count": 11,
   "id": "ba855a97-d784-4952-94e5-be306797a148",
   "metadata": {},
   "outputs": [
    {
     "name": "stdin",
     "output_type": "stream",
     "text": [
      " 10\n"
     ]
    },
    {
     "name": "stdout",
     "output_type": "stream",
     "text": [
      "1\n",
      "2\n",
      "5\n",
      "10\n"
     ]
    }
   ],
   "source": [
    "a = int(input())\n",
    "for i in range(1, a + 1):\n",
    "    if a % i == 0:\n",
    "        print(i)"
   ]
  },
  {
   "cell_type": "code",
   "execution_count": 12,
   "id": "7d926162-0269-4944-9820-be93c7ad3054",
   "metadata": {},
   "outputs": [
    {
     "name": "stdin",
     "output_type": "stream",
     "text": [
      " 10\n"
     ]
    },
    {
     "name": "stdout",
     "output_type": "stream",
     "text": [
      "4\n"
     ]
    }
   ],
   "source": [
    "a = int(input())\n",
    "cnt = 0\n",
    "for i in range(1, a + 1):\n",
    "    if a % i == 0:\n",
    "        cnt += 1\n",
    "print(cnt)"
   ]
  },
  {
   "cell_type": "code",
   "execution_count": 13,
   "id": "1bbde70e-3d35-484d-9557-591088b794c3",
   "metadata": {},
   "outputs": [
    {
     "name": "stdin",
     "output_type": "stream",
     "text": [
      " 10 20\n"
     ]
    },
    {
     "name": "stdout",
     "output_type": "stream",
     "text": [
      "1\n",
      "2\n",
      "5\n",
      "10\n"
     ]
    }
   ],
   "source": [
    "a, b = map(int, input().split())\n",
    "for i in range(1, min(a, b) + 1):\n",
    "    if a % i == 0 and b % i == 0:\n",
    "        print(i)"
   ]
  },
  {
   "cell_type": "code",
   "execution_count": 14,
   "id": "34ecc943-d438-4670-a0b6-1cc9aa2d5257",
   "metadata": {},
   "outputs": [
    {
     "name": "stdin",
     "output_type": "stream",
     "text": [
      " 25\n"
     ]
    },
    {
     "name": "stdout",
     "output_type": "stream",
     "text": [
      "yes\n"
     ]
    }
   ],
   "source": [
    "a = int(input())\n",
    "q = int(a ** 0.5)\n",
    "if q * q == a:\n",
    "    print(\"yes\")\n",
    "else:\n",
    "    print('no')"
   ]
  },
  {
   "cell_type": "code",
   "execution_count": 16,
   "id": "75ab43b6-2834-44ae-ba5f-c186209fcd5d",
   "metadata": {},
   "outputs": [
    {
     "name": "stdin",
     "output_type": "stream",
     "text": [
      " 6\n"
     ]
    },
    {
     "name": "stdout",
     "output_type": "stream",
     "text": [
      "yes\n"
     ]
    }
   ],
   "source": [
    "a = int(input())\n",
    "s = 0\n",
    "for i in range(1, a):\n",
    "    if a % i == 0:\n",
    "        s += i\n",
    "if s == a:\n",
    "    print('yes')\n",
    "else:\n",
    "    print('no')"
   ]
  },
  {
   "cell_type": "code",
   "execution_count": 18,
   "id": "30a7592f-cf71-420b-9975-07f3fe6eb5e3",
   "metadata": {},
   "outputs": [
    {
     "name": "stdin",
     "output_type": "stream",
     "text": [
      " -5\n",
      "Nhap lai  -23\n",
      "Nhap lai  -3\n",
      "Nhap lai  124\n"
     ]
    },
    {
     "name": "stdout",
     "output_type": "stream",
     "text": [
      "Ban nhap dung quy tac \n"
     ]
    }
   ],
   "source": [
    "a = int(input())\n",
    "while a < 0:\n",
    "    a = int(input(\"Nhap lai \"))\n",
    "print(\"Ban nhap dung quy tac \")"
   ]
  },
  {
   "cell_type": "code",
   "execution_count": 19,
   "id": "1863426c-76f5-4da2-8437-7a5aa1cfd31e",
   "metadata": {},
   "outputs": [
    {
     "name": "stdin",
     "output_type": "stream",
     "text": [
      " 100\n"
     ]
    },
    {
     "name": "stdout",
     "output_type": "stream",
     "text": [
      "13\n"
     ]
    }
   ],
   "source": [
    "n = int(input())\n",
    "for k in range(n, 0, -1):\n",
    "    s = 0\n",
    "    for i in range(1, k + 1):\n",
    "        s += i\n",
    "    if s < n:\n",
    "        print(k)\n",
    "        break"
   ]
  },
  {
   "cell_type": "code",
   "execution_count": 20,
   "id": "a1b94f3a-b813-4aaf-bc3e-f7be04f9ec9b",
   "metadata": {},
   "outputs": [
    {
     "name": "stdin",
     "output_type": "stream",
     "text": [
      " 10\n"
     ]
    },
    {
     "name": "stdout",
     "output_type": "stream",
     "text": [
      "12367\n"
     ]
    }
   ],
   "source": [
    "a = int(input())\n",
    "n = 1\n",
    "while 1:\n",
    "    s = 0\n",
    "    for i in range(1, n + 1):\n",
    "        s += 1/i\n",
    "    if (s > a):\n",
    "        print(n)\n",
    "        break\n",
    "    n += 1"
   ]
  },
  {
   "cell_type": "code",
   "execution_count": 22,
   "id": "81752546-0a57-40fb-a9f6-45220f42a154",
   "metadata": {},
   "outputs": [
    {
     "name": "stdin",
     "output_type": "stream",
     "text": [
      " 18\n",
      " 3247\n",
      " 3247\n",
      " 127\n",
      " 57\n",
      " 01\n",
      " -1\n"
     ]
    },
    {
     "name": "stdout",
     "output_type": "stream",
     "text": [
      "3247 1\n"
     ]
    }
   ],
   "source": [
    "a = int(input())\n",
    "if a != -1: \n",
    "    mx = a\n",
    "    mn = a\n",
    "    while a != -1:\n",
    "        a = int(input())\n",
    "        if (a == -1):\n",
    "            break\n",
    "        if mx < a:\n",
    "            mx = a\n",
    "        if mn > a:\n",
    "            mn = a\n",
    "    print(mx, mn)\n",
    "    "
   ]
  },
  {
   "cell_type": "code",
   "execution_count": 23,
   "id": "3cc49db6-ab46-4532-b0b8-5ccfeef7e587",
   "metadata": {},
   "outputs": [
    {
     "name": "stdin",
     "output_type": "stream",
     "text": [
      " 123756413\n"
     ]
    },
    {
     "name": "stdout",
     "output_type": "stream",
     "text": [
      "9\n"
     ]
    }
   ],
   "source": [
    "n = int(input())\n",
    "cnt = 0\n",
    "while(n):\n",
    "    cnt += 1\n",
    "    n//=10\n",
    "print(cnt)"
   ]
  },
  {
   "cell_type": "code",
   "execution_count": 24,
   "id": "2d8e3cf7-1883-403d-add8-77e41c23f991",
   "metadata": {},
   "outputs": [
    {
     "name": "stdin",
     "output_type": "stream",
     "text": [
      " 1276547\n"
     ]
    },
    {
     "name": "stdout",
     "output_type": "stream",
     "text": [
      "so chu so chan 3\n",
      "so chu so le 4\n"
     ]
    }
   ],
   "source": [
    "n = int(input())\n",
    "le, chan = 0, 0\n",
    "while(n):\n",
    "    if (n % 10) & 1:\n",
    "        le += 1\n",
    "    else:\n",
    "        chan += 1\n",
    "    n//=10\n",
    "print(\"so chu so chan\", chan)\n",
    "print(\"so chu so le\", le)"
   ]
  },
  {
   "cell_type": "code",
   "execution_count": 25,
   "id": "38c6c2f2-cd48-4ecb-9865-3ff7fd321abd",
   "metadata": {},
   "outputs": [
    {
     "name": "stdin",
     "output_type": "stream",
     "text": [
      " 124765\n"
     ]
    },
    {
     "name": "stdout",
     "output_type": "stream",
     "text": [
      "25\n"
     ]
    }
   ],
   "source": [
    "n = int(input())\n",
    "cnt = 0\n",
    "while(n):\n",
    "    cnt += n % 10\n",
    "    n//=10\n",
    "print(cnt)"
   ]
  },
  {
   "cell_type": "code",
   "execution_count": 27,
   "id": "f3a7cee9-90dc-4267-b582-8f7c774cf545",
   "metadata": {},
   "outputs": [
    {
     "name": "stdin",
     "output_type": "stream",
     "text": [
      " 100\n"
     ]
    },
    {
     "name": "stdout",
     "output_type": "stream",
     "text": [
      "no\n"
     ]
    }
   ],
   "source": [
    "n = int(input())\n",
    "while(n % 3 == 0):\n",
    "    n //= 3\n",
    "if n == 1:\n",
    "    print(\"yes\")\n",
    "else:\n",
    "    print(\"no\")"
   ]
  },
  {
   "cell_type": "code",
   "execution_count": 28,
   "id": "02948132-20eb-4663-84b9-61098b203460",
   "metadata": {},
   "outputs": [
    {
     "name": "stdin",
     "output_type": "stream",
     "text": [
      " 26\n"
     ]
    },
    {
     "name": "stdout",
     "output_type": "stream",
     "text": [
      "21\n"
     ]
    }
   ],
   "source": [
    "a1 = 1\n",
    "a2 = 1\n",
    "a = int(input())\n",
    "while(a2 <= a):\n",
    "    a1, a2 = a2, a1 + a2\n",
    "    if (a2 > a):\n",
    "        print(a1)\n",
    "        break"
   ]
  },
  {
   "cell_type": "code",
   "execution_count": 29,
   "id": "02d708a9-c129-4eb0-8c2e-094f8dfd1268",
   "metadata": {},
   "outputs": [
    {
     "name": "stdin",
     "output_type": "stream",
     "text": [
      " 127487582\n"
     ]
    },
    {
     "name": "stdout",
     "output_type": "stream",
     "text": [
      "5\n"
     ]
    }
   ],
   "source": [
    "n = int(input())\n",
    "cnt = 0\n",
    "while(n):\n",
    "    d = n % 10\n",
    "    if d == 2 or d == 3 or d == 5 or d == 7:\n",
    "        cnt += 1\n",
    "    n//=10\n",
    "print(cnt)"
   ]
  },
  {
   "cell_type": "code",
   "execution_count": null,
   "id": "3520dec2-9e2b-4650-88e5-20c20f166c03",
   "metadata": {},
   "outputs": [],
   "source": []
  }
 ],
 "metadata": {
  "kernelspec": {
   "display_name": "Python 3 (ipykernel)",
   "language": "python",
   "name": "python3"
  },
  "language_info": {
   "codemirror_mode": {
    "name": "ipython",
    "version": 3
   },
   "file_extension": ".py",
   "mimetype": "text/x-python",
   "name": "python",
   "nbconvert_exporter": "python",
   "pygments_lexer": "ipython3",
   "version": "3.12.2"
  }
 },
 "nbformat": 4,
 "nbformat_minor": 5
}
