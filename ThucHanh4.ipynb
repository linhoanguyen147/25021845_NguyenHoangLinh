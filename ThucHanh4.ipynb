{
 "cells": [
  {
   "cell_type": "code",
   "execution_count": 1,
   "id": "caf848b4-62ee-47eb-9d26-c6ca3aea582e",
   "metadata": {},
   "outputs": [
    {
     "name": "stdin",
     "output_type": "stream",
     "text": [
      " 100\n"
     ]
    },
    {
     "name": "stdout",
     "output_type": "stream",
     "text": [
      "5050\n"
     ]
    }
   ],
   "source": [
    "#W4A1\n",
    "n = int(input())\n",
    "sum = 0\n",
    "for i in range(1, n + 1):\n",
    "    sum += i\n",
    "print(sum)"
   ]
  },
  {
   "cell_type": "code",
   "execution_count": 3,
   "id": "4816d37c-1084-4cbb-beb3-4ab151e33500",
   "metadata": {},
   "outputs": [
    {
     "name": "stdin",
     "output_type": "stream",
     "text": [
      " 7\n"
     ]
    },
    {
     "name": "stdout",
     "output_type": "stream",
     "text": [
      "La so nguyen to\n"
     ]
    }
   ],
   "source": [
    "#W4A2\n",
    "n = int(input())\n",
    "while n < 0 or n != int(n):\n",
    "    n = int(input())\n",
    "pr = 1\n",
    "for i in range(2, int(n ** 0.5) + 1):\n",
    "    if n % i == 0:\n",
    "        print(\"Khong la so nguyen to\")\n",
    "        pr = 0\n",
    "        break\n",
    "if pr:\n",
    "    print(\"La so nguyen to\")\n"
   ]
  },
  {
   "cell_type": "code",
   "execution_count": 4,
   "id": "e0c99fd6-98f8-4c62-831d-ac809ac9539e",
   "metadata": {},
   "outputs": [
    {
     "name": "stdin",
     "output_type": "stream",
     "text": [
      " 5\n"
     ]
    },
    {
     "name": "stdout",
     "output_type": "stream",
     "text": [
      "120\n"
     ]
    }
   ],
   "source": [
    "n = int(input())\n",
    "p = 1\n",
    "for i in range(1, n + 1):\n",
    "    p *= i\n",
    "print(p)"
   ]
  },
  {
   "cell_type": "code",
   "execution_count": 7,
   "id": "5f9cf522-99b8-4692-a8b6-7c676f431305",
   "metadata": {},
   "outputs": [
    {
     "name": "stdin",
     "output_type": "stream",
     "text": [
      " -12355\n"
     ]
    },
    {
     "name": "stdout",
     "output_type": "stream",
     "text": [
      "5\n"
     ]
    }
   ],
   "source": [
    "n = int(input())\n",
    "if n < 0:\n",
    "    n = -n\n",
    "if n == 0:\n",
    "    print(1)\n",
    "else:\n",
    "    cnt = 0\n",
    "    while n:\n",
    "        cnt += 1\n",
    "        n //= 10\n",
    "    print(cnt)"
   ]
  },
  {
   "cell_type": "code",
   "execution_count": 10,
   "id": "fe6e9bc2-8c9d-4626-9a8c-5c1ca5a71e6a",
   "metadata": {},
   "outputs": [
    {
     "name": "stdin",
     "output_type": "stream",
     "text": [
      " 5\n",
      " 1 2 3 42 5\n"
     ]
    },
    {
     "name": "stdout",
     "output_type": "stream",
     "text": [
      "I've found the meaning of life\n"
     ]
    }
   ],
   "source": [
    "n = int(input())\n",
    "fl = 0\n",
    "a = [int(x) for x in input().split()]\n",
    "for i in a:\n",
    "    if i == 42: \n",
    "        fl = 1\n",
    "if fl:\n",
    "    print(\"I've found the meaning of life\")\n",
    "else:\n",
    "    print(\"IT's a joke\")"
   ]
  },
  {
   "cell_type": "code",
   "execution_count": 11,
   "id": "82ea7e95-c0ac-4f7a-a677-af10ec3bcb3a",
   "metadata": {},
   "outputs": [
    {
     "name": "stdin",
     "output_type": "stream",
     "text": [
      " 2 10\n"
     ]
    },
    {
     "name": "stdout",
     "output_type": "stream",
     "text": [
      "17\n"
     ]
    }
   ],
   "source": [
    "a, b = map(int, input().split())\n",
    "s = 0\n",
    "for n in range(a, b + 1):\n",
    "    pr = 1\n",
    "    for i in range(2, int(n ** 0.5) + 1):\n",
    "        if n % i == 0:\n",
    "            pr = 0\n",
    "            break\n",
    "    if pr:\n",
    "        s += n\n",
    "print(s)"
   ]
  },
  {
   "cell_type": "code",
   "execution_count": 15,
   "id": "0473a216-f505-4047-a934-30a9bd8f4d0c",
   "metadata": {},
   "outputs": [
    {
     "name": "stdin",
     "output_type": "stream",
     "text": [
      " 360\n"
     ]
    },
    {
     "name": "stdout",
     "output_type": "stream",
     "text": [
      "5\n"
     ]
    }
   ],
   "source": [
    "m = int(input())\n",
    "\n",
    "for n in range(m, 0, -1):\n",
    "    if m % n == 0:\n",
    "        pr = 1\n",
    "        for i in range(2, int(n ** 0.5) + 1):\n",
    "            if n % i == 0:\n",
    "                pr = 0\n",
    "                break\n",
    "        if pr:\n",
    "            print(n)\n",
    "            break"
   ]
  },
  {
   "cell_type": "code",
   "execution_count": 18,
   "id": "62f326e5-8af0-49b3-8468-5f2cd9391a57",
   "metadata": {},
   "outputs": [
    {
     "name": "stdin",
     "output_type": "stream",
     "text": [
      " 1453\n"
     ]
    },
    {
     "name": "stdout",
     "output_type": "stream",
     "text": [
      "1\n",
      "4994\n"
     ]
    }
   ],
   "source": [
    "n = int(input())\n",
    "cnt = 0\n",
    "while 1:\n",
    "    n = n + int(str(n)[::-1])\n",
    "    cnt += 1\n",
    "    if str(n) == str(n)[::-1]:\n",
    "        break\n",
    "print(cnt)\n",
    "print(n)"
   ]
  },
  {
   "cell_type": "code",
   "execution_count": 22,
   "id": "437b9f16-a2c0-4c40-abe6-d307505609af",
   "metadata": {},
   "outputs": [
    {
     "name": "stdin",
     "output_type": "stream",
     "text": [
      " 111\n"
     ]
    },
    {
     "name": "stdout",
     "output_type": "stream",
     "text": [
      "1 4 9 16 25 36 49 64 81\n"
     ]
    }
   ],
   "source": [
    "def scp(x):\n",
    "    q = int(x ** 0.5)\n",
    "    return q * q == x\n",
    "def check(x):\n",
    "    d = [0 for i in range(10)]\n",
    "    while x:\n",
    "        d[x % 10] += 1\n",
    "        if d[x % 10] > 1:\n",
    "            return False\n",
    "        x //= 10\n",
    "    return True\n",
    "n = int(input())\n",
    "a = []\n",
    "for i in range(1, n + 1):\n",
    "    if scp(i) and check(i):\n",
    "        a.append(i)\n",
    "if len(a):\n",
    "    print(' '.join(map(str, a)))\n",
    "else:\n",
    "    print(\"NO NUMBER\")"
   ]
  },
  {
   "cell_type": "code",
   "execution_count": 26,
   "id": "789fc060-3692-4d59-9e6b-3102eda72e57",
   "metadata": {},
   "outputs": [
    {
     "name": "stdin",
     "output_type": "stream",
     "text": [
      " 100\n"
     ]
    },
    {
     "name": "stdout",
     "output_type": "stream",
     "text": [
      "97 118\n"
     ]
    }
   ],
   "source": [
    "def collatz(x):\n",
    "    cnt = 0\n",
    "    while(x > 1):\n",
    "        cnt += 1\n",
    "        if x & 1:\n",
    "            x = 3 * x + 1\n",
    "        else:\n",
    "            x //= 2\n",
    "    return cnt\n",
    "n = int(input())\n",
    "x, l = 0, 0\n",
    "for i in range(1, n + 1):\n",
    "    cur = collatz(i)\n",
    "    if cur > l:\n",
    "        l = cur\n",
    "        x = i\n",
    "print(x, l)"
   ]
  },
  {
   "cell_type": "code",
   "execution_count": 27,
   "id": "13c330ed-52c7-4d93-afe6-3caf3943abdd",
   "metadata": {},
   "outputs": [
    {
     "name": "stdin",
     "output_type": "stream",
     "text": [
      " 1000000\n"
     ]
    },
    {
     "name": "stdout",
     "output_type": "stream",
     "text": [
      "42\n"
     ]
    }
   ],
   "source": [
    "n = int(input())\n",
    "cnt = 0\n",
    "for i in range(2, n + 1, 2):\n",
    "    if n % i == 0:\n",
    "       cnt += 1\n",
    "print(cnt)"
   ]
  },
  {
   "cell_type": "code",
   "execution_count": 30,
   "id": "6db2179a-09d3-418e-8bea-05861f8ea8db",
   "metadata": {},
   "outputs": [
    {
     "name": "stdin",
     "output_type": "stream",
     "text": [
      " 1000000 1\n"
     ]
    },
    {
     "name": "stdout",
     "output_type": "stream",
     "text": [
      "1007000\n"
     ]
    }
   ],
   "source": [
    "x, n = map(float, input().split())\n",
    "r = (1.0 + 0.7/100)\n",
    "print(round(x * (r ** (int(n)))))"
   ]
  },
  {
   "cell_type": "code",
   "execution_count": 31,
   "id": "235567bc-11f9-495c-b893-2641eb5cb666",
   "metadata": {},
   "outputs": [
    {
     "name": "stdin",
     "output_type": "stream",
     "text": [
      " 220 284\n"
     ]
    },
    {
     "name": "stdout",
     "output_type": "stream",
     "text": [
      "true\n"
     ]
    }
   ],
   "source": [
    "def tonguoc(x):\n",
    "    s = 0\n",
    "    for i in range(1, x):\n",
    "        if x % i == 0:\n",
    "            s += i\n",
    "    return s\n",
    "a, b = map(int, input().split())\n",
    "if a == tonguoc(b) and b == tonguoc(a):\n",
    "    print(\"true\")\n",
    "else:\n",
    "    print(\"false\")\n"
   ]
  },
  {
   "cell_type": "code",
   "execution_count": 33,
   "id": "2d3b7000-a7a1-493e-a844-bea655530fb4",
   "metadata": {},
   "outputs": [
    {
     "name": "stdin",
     "output_type": "stream",
     "text": [
      " 18 9\n"
     ]
    },
    {
     "name": "stdout",
     "output_type": "stream",
     "text": [
      "9\n"
     ]
    }
   ],
   "source": [
    "def gcd(m, n):\n",
    "    while n:\n",
    "        m, n = n, m % n\n",
    "    return m\n",
    "m, n = map(int, input().split())\n",
    "print(gcd(m, n))"
   ]
  },
  {
   "cell_type": "code",
   "execution_count": 34,
   "id": "3c246387-2632-4e7f-9953-b32a7cf987cd",
   "metadata": {},
   "outputs": [
    {
     "name": "stdin",
     "output_type": "stream",
     "text": [
      "Tong so con:  36\n",
      "Tong so chan:  100\n"
     ]
    },
    {
     "name": "stdout",
     "output_type": "stream",
     "text": [
      "So ga: 22, so cho: 14\n"
     ]
    }
   ],
   "source": [
    "con = int(input(\"Tong so con: \"))\n",
    "chan = int(input(\"Tong so chan: \"))\n",
    "if chan & 1:\n",
    "    print(\"invalid\")\n",
    "chan //= 2\n",
    "cho = chan - con\n",
    "ga = con - cho\n",
    "print(f'So ga: {ga}, so cho: {cho}')"
   ]
  },
  {
   "cell_type": "code",
   "execution_count": null,
   "id": "8da72623-e459-489e-830e-f22eed908ba1",
   "metadata": {},
   "outputs": [],
   "source": []
  }
 ],
 "metadata": {
  "kernelspec": {
   "display_name": "Python 3 (ipykernel)",
   "language": "python",
   "name": "python3"
  },
  "language_info": {
   "codemirror_mode": {
    "name": "ipython",
    "version": 3
   },
   "file_extension": ".py",
   "mimetype": "text/x-python",
   "name": "python",
   "nbconvert_exporter": "python",
   "pygments_lexer": "ipython3",
   "version": "3.12.2"
  }
 },
 "nbformat": 4,
 "nbformat_minor": 5
}
