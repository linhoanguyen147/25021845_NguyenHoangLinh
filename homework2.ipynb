{
 "cells": [
  {
   "cell_type": "code",
   "execution_count": 1,
   "id": "86b2030a-1df7-43a9-be24-ad7f36ebaba2",
   "metadata": {},
   "outputs": [
    {
     "name": "stdin",
     "output_type": "stream",
     "text": [
      " 10 20\n"
     ]
    },
    {
     "name": "stdout",
     "output_type": "stream",
     "text": [
      "chu vi: 60\n",
      "dien tich: 200\n"
     ]
    }
   ],
   "source": [
    "a, b = map(float, input().split())\n",
    "print(f'chu vi: {2 * (a + b)}')\n",
    "print(f'dien tich: {a * b}')"
   ]
  },
  {
   "cell_type": "code",
   "execution_count": 2,
   "id": "2b49ee57-191b-452d-bce7-2990389310f6",
   "metadata": {},
   "outputs": [
    {
     "name": "stdin",
     "output_type": "stream",
     "text": [
      " 5\n"
     ]
    },
    {
     "name": "stdout",
     "output_type": "stream",
     "text": [
      "chu vi: 31.41592653589793\n",
      "dien tich: 78.53981633974483\n"
     ]
    }
   ],
   "source": [
    "import math\n",
    "r = float(input())\n",
    "print(f'chu vi: {2 * math.pi * r}')\n",
    "print(f'dien tich: {math.pi * r * r}')"
   ]
  },
  {
   "cell_type": "code",
   "execution_count": 3,
   "id": "8be5ce3b-e58b-4c59-8174-83b7c0d89c1d",
   "metadata": {},
   "outputs": [
    {
     "name": "stdin",
     "output_type": "stream",
     "text": [
      " 3 4 5\n"
     ]
    },
    {
     "name": "stdout",
     "output_type": "stream",
     "text": [
      "tam giac vuong\n"
     ]
    }
   ],
   "source": [
    "a, b, c = map(float, input().split())\n",
    "if not (a + b > c and b + c > a and a + c > b):\n",
    "    print(\"khong la ba canh cua mot tam giac\")\n",
    "else:\n",
    "    if (a == b and b == c):\n",
    "        print(\"tam giac deu\")\n",
    "    else:\n",
    "        if (a * a + b * b == c * c or a * a + c * c == b * b or b * b + c * c == a * a) and (a == b or b == c or a == c):\n",
    "            print(\"tam giac vuong can\")\n",
    "        elif (a * a + b * b == c * c or a * a + c * c == b * b or b * b + c * c == a * a):\n",
    "            print(\"tam giac vuong\")\n",
    "        elif (a == b or b == c or a == c):\n",
    "            print('tam giac can')\n",
    "        else:\n",
    "            print('tam giac thuong')"
   ]
  },
  {
   "cell_type": "code",
   "execution_count": 5,
   "id": "6a219285-201b-4a02-ad46-1a2ad4fac086",
   "metadata": {},
   "outputs": [
    {
     "name": "stdin",
     "output_type": "stream",
     "text": [
      " 2 -4\n"
     ]
    },
    {
     "name": "stdout",
     "output_type": "stream",
     "text": [
      "co nghiem duy nhat la x = 2.0\n"
     ]
    }
   ],
   "source": [
    "a, b = map(float, input().split())\n",
    "if a == 0:\n",
    "    if b == 0:\n",
    "        print(\"vo so nghiem\")\n",
    "    else:\n",
    "        print(\"vo nghiem\")\n",
    "else:\n",
    "    print(\"co nghiem duy nhat la x =\", -b/a)"
   ]
  },
  {
   "cell_type": "code",
   "execution_count": 12,
   "id": "41076e3d-d79f-4f5b-9a69-f03952b4368e",
   "metadata": {},
   "outputs": [
    {
     "name": "stdin",
     "output_type": "stream",
     "text": [
      " 1 -4 4\n"
     ]
    },
    {
     "name": "stdout",
     "output_type": "stream",
     "text": [
      "co nghiem kiep la x = 2.0\n"
     ]
    }
   ],
   "source": [
    "a, b, c = map(float, input().split())\n",
    "if a == 0:\n",
    "    if b == 0:\n",
    "        if c == 0:\n",
    "            print(\"vo so nghiem\")\n",
    "        else:\n",
    "            print(\"vo nghiem\")\n",
    "    else:\n",
    "        print(\"co nghiem duy nhat la x =\", -c/b)\n",
    "else:\n",
    "    d = b * b - 4 * a * c\n",
    "    if d < 0:\n",
    "        print(\"vo nghiem\")\n",
    "    elif d > 0:\n",
    "        print(f\"co hai nghiem la x1 = {(-b + d ** 0.5) / (2 * a)}, x2 = {(-b - d ** 0.5) / (2 * a)}\")\n",
    "    else:\n",
    "        print(\"co nghiem kiep la x =\", -b/(2*a))"
   ]
  },
  {
   "cell_type": "code",
   "execution_count": 13,
   "id": "95af7917-79a6-47ad-9020-7e29609a3c12",
   "metadata": {},
   "outputs": [
    {
     "name": "stdin",
     "output_type": "stream",
     "text": [
      " 1 2 3 5\n"
     ]
    },
    {
     "name": "stdout",
     "output_type": "stream",
     "text": [
      "5\n"
     ]
    }
   ],
   "source": [
    "a, b, c, d = map(int, input().split())\n",
    "if (a >= b and a >= c and a >= d):\n",
    "    print(a)\n",
    "elif (b >= c and b >= a and b >= d):\n",
    "    print(b)\n",
    "elif (c >= d and c >= a and c >= b):\n",
    "    print(c)\n",
    "else:\n",
    "    print(d)"
   ]
  },
  {
   "cell_type": "code",
   "execution_count": 14,
   "id": "eff10d01-ebec-47cb-9873-46e58dd73307",
   "metadata": {},
   "outputs": [
    {
     "name": "stdin",
     "output_type": "stream",
     "text": [
      " 1 2 3 4\n"
     ]
    },
    {
     "name": "stdout",
     "output_type": "stream",
     "text": [
      "1\n"
     ]
    }
   ],
   "source": [
    "a, b, c, d = map(int, input().split())\n",
    "if (a <= b and a <= c and a <= d):\n",
    "    print(a)\n",
    "elif (b <= c and b <= a and b <= d):\n",
    "    print(b)\n",
    "elif (c <= d and c <= a and c <= b):\n",
    "    print(c)\n",
    "else:\n",
    "    print(d)"
   ]
  },
  {
   "cell_type": "code",
   "execution_count": 17,
   "id": "083820bc-c30f-4f26-965f-a552f3e35a58",
   "metadata": {},
   "outputs": [
    {
     "name": "stdin",
     "output_type": "stream",
     "text": [
      " 2 1 5\n",
      " 4 -6 2\n"
     ]
    },
    {
     "name": "stdout",
     "output_type": "stream",
     "text": [
      "nghiem duy nhat la x = 2.0, y = 1.0\n"
     ]
    }
   ],
   "source": [
    "a, b, m = map(float, input().split())\n",
    "c, d, n = map(float, input().split())\n",
    "if (a * d - b * c == 0):\n",
    "    if (m * d - b * n == 0 and a * n - c * m == 0):\n",
    "        print('vo so nghiem')\n",
    "    else:\n",
    "        print('vo nghiem')\n",
    "else:\n",
    "    print(f'nghiem duy nhat la x = {(m * d - b * n)/(a * d - b * c)}, y = {(a * n - c * m) / (a * d - b * c)}')"
   ]
  },
  {
   "cell_type": "code",
   "execution_count": 18,
   "id": "3be53b1b-6352-443e-ad92-b7509d10d1ef",
   "metadata": {},
   "outputs": [
    {
     "name": "stdin",
     "output_type": "stream",
     "text": [
      " 4000\n"
     ]
    },
    {
     "name": "stdout",
     "output_type": "stream",
     "text": [
      "1 gio 6 phut 40 giay\n"
     ]
    }
   ],
   "source": [
    "x = int(input())\n",
    "h = x // 3600\n",
    "x %= 3600\n",
    "m = x // 60\n",
    "x %= 60\n",
    "print(f'{h} gio {m} phut {x} giay')"
   ]
  },
  {
   "cell_type": "code",
   "execution_count": 21,
   "id": "0627efd6-e096-4b92-acc2-f874bcc3173d",
   "metadata": {},
   "outputs": [
    {
     "name": "stdin",
     "output_type": "stream",
     "text": [
      " 1 1 5\n",
      " 2 3\n"
     ]
    },
    {
     "name": "stdout",
     "output_type": "stream",
     "text": [
      "diem nam trong\n"
     ]
    }
   ],
   "source": [
    "x0, y0, r = map(float, input().split())\n",
    "x, y = map(float, input().split())\n",
    "if (x - x0) ** 2 + (y - y0) ** 2 < r * r:\n",
    "    print('diem nam trong')\n",
    "elif (x - x0) ** 2 + (y - y0) ** 2 == r * r:\n",
    "    print('diem nam tren')\n",
    "else:\n",
    "    print('diem nam ngoai')\n"
   ]
  },
  {
   "cell_type": "code",
   "execution_count": 20,
   "id": "7963d551-e99c-49f9-a6c4-afe257857e02",
   "metadata": {},
   "outputs": [
    {
     "name": "stdin",
     "output_type": "stream",
     "text": [
      " 2 5\n"
     ]
    },
    {
     "name": "stdout",
     "output_type": "stream",
     "text": [
      "32.0\n"
     ]
    }
   ],
   "source": [
    "x, y = map(float, input().split())\n",
    "print(x ** y)"
   ]
  },
  {
   "cell_type": "code",
   "execution_count": null,
   "id": "f497a521-1512-493c-9cf9-4cb24fee88ae",
   "metadata": {},
   "outputs": [],
   "source": []
  }
 ],
 "metadata": {
  "kernelspec": {
   "display_name": "Python 3 (ipykernel)",
   "language": "python",
   "name": "python3"
  },
  "language_info": {
   "codemirror_mode": {
    "name": "ipython",
    "version": 3
   },
   "file_extension": ".py",
   "mimetype": "text/x-python",
   "name": "python",
   "nbconvert_exporter": "python",
   "pygments_lexer": "ipython3",
   "version": "3.13.7"
  }
 },
 "nbformat": 4,
 "nbformat_minor": 5
}
