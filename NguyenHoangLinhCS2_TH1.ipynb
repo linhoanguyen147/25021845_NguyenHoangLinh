{
 "cells": [
  {
   "cell_type": "code",
   "execution_count": null,
   "id": "2927e9e9-3b8a-4cd9-b63f-a72e49c87435",
   "metadata": {},
   "outputs": [],
   "source": [
    "#Nguyễn Hoàng Linh - CS2"
   ]
  },
  {
   "cell_type": "code",
   "execution_count": 9,
   "id": "49c96706-64d8-4174-aad6-aa501a0e4797",
   "metadata": {},
   "outputs": [
    {
     "name": "stdout",
     "output_type": "stream",
     "text": [
      "2\n"
     ]
    }
   ],
   "source": [
    "#W1A1\n",
    "a = 7          # Gán giá trị 7 cho biến a\n",
    "b = 5          # Gán giá trị 5 cho biến b\n",
    "c = a - b      # Tính hiệu của a và b, gán kết quả cho biến c (7 - 5 = 2)\n",
    "print(c)       # In giá trị của c ra màn hình (in ra 2)"
   ]
  },
  {
   "cell_type": "code",
   "execution_count": 10,
   "id": "8fa90b78-b8bf-47dc-b943-0c823d540a66",
   "metadata": {},
   "outputs": [
    {
     "name": "stdout",
     "output_type": "stream",
     "text": [
      "Thành phố:  Hà Nội  - Năm:  2025\n"
     ]
    }
   ],
   "source": [
    "#W1A2\n",
    "city = \"Hà Nội\"       # Gán chuỗi \"Hà Nội\" cho biến city\n",
    "year = 2025           # Gán số nguyên 2025 cho biến year\n",
    "print(\"Thành phố: \", city, \" - Năm: \", year)  # In ra chuỗi cùng giá trị của city và year"
   ]
  },
  {
   "cell_type": "code",
   "execution_count": 11,
   "id": "6409094b-0561-4343-86ae-2c6ba77fe164",
   "metadata": {},
   "outputs": [
    {
     "name": "stdout",
     "output_type": "stream",
     "text": [
      "10\n"
     ]
    }
   ],
   "source": [
    "#W1A3\n",
    "n = 4        # Gán giá trị 4 cho biến n\n",
    "t = 0        # Khởi tạo biến tổng t = 0\n",
    "for i in range(1, n+1):  # Vòng lặp i chạy từ 1 đến n (1 đến 4)\n",
    "    t += i    # Cộng giá trị i vào biến t (t = t + i)\n",
    "print(t)     # In ra tổng t sau khi kết thúc vòng lặp"
   ]
  },
  {
   "cell_type": "code",
   "execution_count": 12,
   "id": "c47eb028-5bc9-468a-89c9-10dc56c5d9e3",
   "metadata": {},
   "outputs": [
    {
     "name": "stdout",
     "output_type": "stream",
     "text": [
      "1 là số lẻ\n",
      "2 là số chẵn\n",
      "3 là số lẻ\n",
      "4 là số chẵn\n"
     ]
    }
   ],
   "source": [
    "#W1A4\n",
    "numbers = [1, 2, 3, 4]          # Khai báo danh sách các số\n",
    "for x in numbers:               # Lặp qua từng phần tử x trong danh sách\n",
    "    if x % 2 == 0:             # Kiểm tra nếu x chia hết cho 2 (là số chẵn)\n",
    "        print(x, \"là số chẵn\")  # In ra x là số chẵn\n",
    "    else:\n",
    "        print(x, \"là số lẻ\")    # Nếu không phải số chẵn thì in ra là số lẻ"
   ]
  },
  {
   "cell_type": "code",
   "execution_count": 13,
   "id": "3affc5da-8114-4e16-adb1-1a812e94c867",
   "metadata": {},
   "outputs": [
    {
     "name": "stdout",
     "output_type": "stream",
     "text": [
      "Số phần tử trong danh sách là: 4\n"
     ]
    }
   ],
   "source": [
    "#W1A5\n",
    "animals = [\"cat\", \"dog\", \"cat\", \"bird\"]   # Danh sách các động vật\n",
    "count = 0                                # Khởi tạo biến đếm bằng 0\n",
    "for a in animals:                        # Lặp qua từng phần tử trong danh sách\n",
    "    count += 1                          # Mỗi vòng, tăng biến đếm lên 1\n",
    "print(\"Số phần tử trong danh sách là:\", count)  # In ra tổng số phần tử\n"
   ]
  },
  {
   "cell_type": "code",
   "execution_count": null,
   "id": "e696eb2a-61ac-4c2f-b7dc-678ab45d4c0d",
   "metadata": {},
   "outputs": [],
   "source": [
    "#W1A6\n",
    "'''\n",
    "Giải thích chương trình này đang làm gì:\n",
    "\n",
    "Đây là một menu đơn giản cho người dùng lựa chọn các chức năng của một hệ thống dự đoán AI.\n",
    "\n",
    "Người dùng sẽ nhập một số (1, 2 hoặc 3) để chọn một trong các tùy chọn:\n",
    "\n",
    "Sentiment analysis (Phân tích cảm xúc): Chức năng có thể sẽ phân tích văn bản để đoán cảm xúc (tích cực, tiêu cực, trung tính).\n",
    "\n",
    "Weather forecast (Dự báo thời tiết): Chức năng có thể dự báo thời tiết cho một địa điểm cụ thể.\n",
    "\n",
    "Exit (Thoát): Thoát chương trình.\n",
    "\n",
    "Dòng Please choose an option: là lời nhắc người dùng nhập lựa chọn của họ.\n",
    "\n",
    "Vì sao có kết quả như vậy?\n",
    "\n",
    "Đoạn text trên là phần menu giao diện thường thấy trong các chương trình tương tác với người dùng qua dòng lệnh (CLI).\n",
    "\n",
    "Nó được in ra để người dùng biết họ có thể chọn những gì.\n",
    "\n",
    "Kết quả này chỉ là bước đầu của chương trình, nó chưa thực hiện chức năng nào mà chỉ chờ người dùng nhập lựa chọn.\n",
    "'''"
   ]
  },
  {
   "cell_type": "code",
   "execution_count": 14,
   "id": "e2006350-d955-40fa-b0d0-c9e67b7af42f",
   "metadata": {},
   "outputs": [
    {
     "name": "stdin",
     "output_type": "stream",
     "text": [
      "Nhập số:  18\n"
     ]
    },
    {
     "name": "stdout",
     "output_type": "stream",
     "text": [
      "Số chẵn\n"
     ]
    }
   ],
   "source": [
    "#W1A7\n",
    "num = int(input(\"Nhập số: \"))      # Chuyển input thành số nguyên\n",
    "if num % 2 == 0:                   # So sánh xem num chia hết cho 2 không\n",
    "    print(\"Số chẵn\")               # In ra nếu số chẵn\n",
    "else:\n",
    "    print(\"Số lẻ\")                 # In ra nếu số lẻ"
   ]
  },
  {
   "cell_type": "code",
   "execution_count": 15,
   "id": "6e3c9348-a88b-4780-ab75-4b1275db5c89",
   "metadata": {},
   "outputs": [
    {
     "name": "stdout",
     "output_type": "stream",
     "text": [
      "AI đang học lần 1\n",
      "AI đang học lần 2\n",
      "AI đang học lần 3\n",
      "Huấn luyện xong!\n"
     ]
    }
   ],
   "source": [
    "#W1A8\n",
    "for i in range(3):\n",
    "    print(\"AI đang học lần\", i + 1)  # In ra lần học thứ i+1\n",
    "print(\"Huấn luyện xong!\")             # In ra khi vòng lặp kết thúc\n",
    "'''\n",
    "Kết quả in ra:\n",
    "AI đang học lần 1\n",
    "AI đang học lần 2\n",
    "AI đang học lần 3\n",
    "Huấn luyện xong!\n",
    "\n",
    "Vì sao có kết quả như vậy?\n",
    "\n",
    "Vòng lặp thực hiện in ra ba lần tương ứng với các giá trị i từ 0 đến 2 (cộng thêm 1).\n",
    "\n",
    "Lệnh in \"Huấn luyện xong!\" nằm ngoài vòng lặp, nên chỉ in một lần khi vòng lặp kết thúc.\n",
    "'''"
   ]
  },
  {
   "cell_type": "code",
   "execution_count": 16,
   "id": "14f23bc9-6c13-4831-8d6b-f13406df05da",
   "metadata": {},
   "outputs": [
    {
     "name": "stdout",
     "output_type": "stream",
     "text": [
      "Dự đoán con vật: cat\n",
      "Dự đoán con vật: dog\n",
      "Dự đoán con vật: fish\n"
     ]
    }
   ],
   "source": [
    "#W1A9\n",
    "for x in [\"cat\", \"dog\", \"fish\"]:\n",
    "    print(\"Dự đoán con vật:\", x)\n",
    "'''\n",
    "Số dòng in ra:\n",
    "\n",
    "Vòng lặp chạy 3 lần (vì danh sách có 3 phần tử).\n",
    "\n",
    "Mỗi lần in ra 1 dòng.\n",
    "\n",
    "Vậy đoạn code in ra 3 dòng.\n",
    "\n",
    "Nội dung các dòng in ra:\n",
    "Dự đoán con vật: cat\n",
    "Dự đoán con vật: dog\n",
    "Dự đoán con vật: fish\n",
    "'''"
   ]
  },
  {
   "cell_type": "code",
   "execution_count": 17,
   "id": "eea0d7cc-ad95-4236-8418-068601cc3316",
   "metadata": {},
   "outputs": [
    {
     "name": "stdout",
     "output_type": "stream",
     "text": [
      "=== AI Prediction System ===\n",
      "1) Sentiment analysis\n",
      "2) Weather forecast\n",
      "3) Exit\n",
      "Please choose an option:\n"
     ]
    }
   ],
   "source": [
    "#W1A10\n",
    "print(\"=== AI Prediction System ===\")\n",
    "print(\"1) Sentiment analysis\")\n",
    "print(\"2) Weather forecast\")\n",
    "print(\"3) Exit\")\n",
    "print(\"Please choose an option:\")"
   ]
  }
 ],
 "metadata": {
  "kernelspec": {
   "display_name": "Python 3 (ipykernel)",
   "language": "python",
   "name": "python3"
  },
  "language_info": {
   "codemirror_mode": {
    "name": "ipython",
    "version": 3
   },
   "file_extension": ".py",
   "mimetype": "text/x-python",
   "name": "python",
   "nbconvert_exporter": "python",
   "pygments_lexer": "ipython3",
   "version": "3.13.7"
  }
 },
 "nbformat": 4,
 "nbformat_minor": 5
}
